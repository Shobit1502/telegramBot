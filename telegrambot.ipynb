{
  "nbformat": 4,
  "nbformat_minor": 0,
  "metadata": {
    "colab": {
      "name": "telegrambot.ipynb",
      "provenance": []
    },
    "kernelspec": {
      "name": "python3",
      "display_name": "Python 3"
    }
  },
  "cells": [
    {
      "cell_type": "code",
      "metadata": {
        "id": "n24OnryTLnBH",
        "outputId": "b40e5416-0396-4155-c76a-a5dccdfe04cc",
        "colab": {
          "base_uri": "https://localhost:8080/",
          "height": 34
        }
      },
      "source": [
        "print(\"hello World\");"
      ],
      "execution_count": null,
      "outputs": [
        {
          "output_type": "stream",
          "text": [
            "hello World\n"
          ],
          "name": "stdout"
        }
      ]
    },
    {
      "cell_type": "code",
      "metadata": {
        "id": "sfdwlUdvMKYI",
        "outputId": "466147e1-0e55-427d-a1d2-ad21b3a91d88",
        "colab": {
          "base_uri": "https://localhost:8080/",
          "height": 370
        }
      },
      "source": [
        "!pip install adafruit-io"
      ],
      "execution_count": null,
      "outputs": [
        {
          "output_type": "stream",
          "text": [
            "Collecting adafruit-io\n",
            "\u001b[?25l  Downloading https://files.pythonhosted.org/packages/ea/0b/5f2b24a13d283f3b523f6878b571a41618072c9af72a0f66f49745c4485b/adafruit-io-2.4.0.tar.gz (50kB)\n",
            "\u001b[K     |████████████████████████████████| 51kB 1.6MB/s \n",
            "\u001b[?25hRequirement already satisfied: requests in /usr/local/lib/python3.6/dist-packages (from adafruit-io) (2.23.0)\n",
            "Collecting paho-mqtt\n",
            "\u001b[?25l  Downloading https://files.pythonhosted.org/packages/32/d3/6dcb8fd14746fcde6a556f932b5de8bea8fedcb85b3a092e0e986372c0e7/paho-mqtt-1.5.1.tar.gz (101kB)\n",
            "\u001b[K     |████████████████████████████████| 102kB 4.4MB/s \n",
            "\u001b[?25hRequirement already satisfied: certifi>=2017.4.17 in /usr/local/lib/python3.6/dist-packages (from requests->adafruit-io) (2020.6.20)\n",
            "Requirement already satisfied: chardet<4,>=3.0.2 in /usr/local/lib/python3.6/dist-packages (from requests->adafruit-io) (3.0.4)\n",
            "Requirement already satisfied: urllib3!=1.25.0,!=1.25.1,<1.26,>=1.21.1 in /usr/local/lib/python3.6/dist-packages (from requests->adafruit-io) (1.24.3)\n",
            "Requirement already satisfied: idna<3,>=2.5 in /usr/local/lib/python3.6/dist-packages (from requests->adafruit-io) (2.10)\n",
            "Building wheels for collected packages: adafruit-io, paho-mqtt\n",
            "  Building wheel for adafruit-io (setup.py) ... \u001b[?25l\u001b[?25hdone\n",
            "  Created wheel for adafruit-io: filename=adafruit_io-2.4.0-cp36-none-any.whl size=20656 sha256=e1fb2090ebe641aaed8191da6c1a7d9627ab5578f39defd3c361cfdef19529a9\n",
            "  Stored in directory: /root/.cache/pip/wheels/05/e7/46/cd3dced11f962217204288f5faee41e56fbad8f7201f510619\n",
            "  Building wheel for paho-mqtt (setup.py) ... \u001b[?25l\u001b[?25hdone\n",
            "  Created wheel for paho-mqtt: filename=paho_mqtt-1.5.1-cp36-none-any.whl size=61544 sha256=9dd732ca0fb21841b34fb51695a72d007dfbe5ea88acb69f02dec4ca840c8454\n",
            "  Stored in directory: /root/.cache/pip/wheels/75/e2/f5/78942b19b4d135605e58dfe85fba52253b14d636aabf76904b\n",
            "Successfully built adafruit-io paho-mqtt\n",
            "Installing collected packages: paho-mqtt, adafruit-io\n",
            "Successfully installed adafruit-io-2.4.0 paho-mqtt-1.5.1\n"
          ],
          "name": "stdout"
        }
      ]
    },
    {
      "cell_type": "code",
      "metadata": {
        "id": "0boDLVdmMgj9",
        "outputId": "2db4eb31-b507-487c-c594-0f9217e9f32b",
        "colab": {
          "base_uri": "https://localhost:8080/",
          "height": 252
        }
      },
      "source": [
        "!pip install python-telegram-bot==12.8"
      ],
      "execution_count": null,
      "outputs": [
        {
          "output_type": "stream",
          "text": [
            "Collecting python-telegram-bot==12.8\n",
            "\u001b[?25l  Downloading https://files.pythonhosted.org/packages/a6/2d/c72fc9a28144277f6170f2fcbfd3bd9427943497522b2689846596eb86cf/python_telegram_bot-12.8-py2.py3-none-any.whl (375kB)\n",
            "\u001b[K     |████████████████████████████████| 378kB 2.8MB/s \n",
            "\u001b[?25hRequirement already satisfied: tornado>=5.1 in /usr/local/lib/python3.6/dist-packages (from python-telegram-bot==12.8) (5.1.1)\n",
            "Collecting cryptography\n",
            "\u001b[?25l  Downloading https://files.pythonhosted.org/packages/33/62/30f6936941d87a5ed72efb24249437824f6b2c953901245b58c91fde2f27/cryptography-3.1.1-cp35-abi3-manylinux2010_x86_64.whl (2.6MB)\n",
            "\u001b[K     |████████████████████████████████| 2.6MB 7.4MB/s \n",
            "\u001b[?25hRequirement already satisfied: certifi in /usr/local/lib/python3.6/dist-packages (from python-telegram-bot==12.8) (2020.6.20)\n",
            "Requirement already satisfied: decorator>=4.4.0 in /usr/local/lib/python3.6/dist-packages (from python-telegram-bot==12.8) (4.4.2)\n",
            "Requirement already satisfied: cffi!=1.11.3,>=1.8 in /usr/local/lib/python3.6/dist-packages (from cryptography->python-telegram-bot==12.8) (1.14.3)\n",
            "Requirement already satisfied: six>=1.4.1 in /usr/local/lib/python3.6/dist-packages (from cryptography->python-telegram-bot==12.8) (1.15.0)\n",
            "Requirement already satisfied: pycparser in /usr/local/lib/python3.6/dist-packages (from cffi!=1.11.3,>=1.8->cryptography->python-telegram-bot==12.8) (2.20)\n",
            "Installing collected packages: cryptography, python-telegram-bot\n",
            "Successfully installed cryptography-3.1.1 python-telegram-bot-12.8\n"
          ],
          "name": "stdout"
        }
      ]
    },
    {
      "cell_type": "code",
      "metadata": {
        "id": "OfJWm3F9MvJt"
      },
      "source": [
        "ADAFRUIT_IO_USERNAME = \"shobit\"\n",
        "ADAFRUIT_IO_KEY = \"aio_rZLU01QmJgLbQHBbfmmhH24yPkf2\" #Adafruit dashboard"
      ],
      "execution_count": null,
      "outputs": []
    },
    {
      "cell_type": "code",
      "metadata": {
        "id": "XS1MqalFNXdg"
      },
      "source": [
        "from Adafruit_IO import Client,Data\n",
        "from telegram.ext import Updater,CommandHandler"
      ],
      "execution_count": null,
      "outputs": []
    },
    {
      "cell_type": "code",
      "metadata": {
        "id": "SynuRHcYOy9j"
      },
      "source": [
        "sho=Client(ADAFRUIT_IO_USERNAME,ADAFRUIT_IO_KEY);"
      ],
      "execution_count": null,
      "outputs": []
    },
    {
      "cell_type": "code",
      "metadata": {
        "id": "o30fnuYqPOZZ"
      },
      "source": [
        "def on(bot,update):\n",
        "  chat_id=update.message.chat_id\n",
        "  sho.create_data('mobile',Data(value=1))\n",
        "  bot.send_message(chat_id,text=\"Lights On\")"
      ],
      "execution_count": null,
      "outputs": []
    },
    {
      "cell_type": "code",
      "metadata": {
        "id": "ufHxE19fQriS"
      },
      "source": [
        "def off(bot,update):\n",
        "  chat_id=update.message.chat_id\n",
        "  sho.create_data('mobile',Data(value=0))\n",
        "  bot.send_message(chat_id,text=\"Lights Off\")"
      ],
      "execution_count": null,
      "outputs": []
    },
    {
      "cell_type": "code",
      "metadata": {
        "id": "nMzJcvUsQ2ys",
        "outputId": "dbfdfc7f-a2df-4fbc-e470-23cb6ec035a2",
        "colab": {
          "base_uri": "https://localhost:8080/",
          "height": 50
        }
      },
      "source": [
        "updater=Updater('1306865282:AAFH1z3rTofMlpv4xlsriYVbcp8yCffoOZc')  #http api key from bot father chat"
      ],
      "execution_count": null,
      "outputs": [
        {
          "output_type": "stream",
          "text": [
            "/usr/local/lib/python3.6/dist-packages/ipykernel_launcher.py:1: TelegramDeprecationWarning: Old Handler API is deprecated - see https://git.io/fxJuV for details\n",
            "  \"\"\"Entry point for launching an IPython kernel.\n"
          ],
          "name": "stderr"
        }
      ]
    },
    {
      "cell_type": "code",
      "metadata": {
        "id": "xw998SwBRYR0"
      },
      "source": [
        "dp=updater.dispatcher\n",
        "dp.add_handler(CommandHandler('on',on))\n",
        "dp.add_handler(CommandHandler('off',off))\n",
        "updater.start_polling()\n",
        "updater.idle()"
      ],
      "execution_count": null,
      "outputs": []
    },
    {
      "cell_type": "code",
      "metadata": {
        "id": "Okhu0f76SMlu"
      },
      "source": [
        ""
      ],
      "execution_count": null,
      "outputs": []
    }
  ]
}